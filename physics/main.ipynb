{
 "cells": [
  {
   "cell_type": "markdown",
   "id": "02e9988a",
   "metadata": {},
   "source": [
    "# Tratamento de Dados de Telescópio\n",
    "**Equipe:** Daniel, Jones, Kleberson, Murilo"
   ]
  },
  {
   "cell_type": "markdown",
   "id": "0299c78b",
   "metadata": {},
   "source": [
    "## Apresentação\n",
    "### O Telescópio Kepler e a Descoberta de Exoplanetas\n",
    "\n",
    "<p align = \"center\">\n",
    "<img src=\"https://upload.wikimedia.org/wikipedia/commons/thumb/9/91/NASA-KeplerSpaceTelescope-ArtistConcept-20141027.jpg/500px-NASA-KeplerSpaceTelescope-ArtistConcept-20141027.jpg\", width=\"500\">\n",
    "<p>\n",
    "\n",
    "#### Introdução\n",
    "- O Telescópio Espacial Kepler, lançado pela NASA em 2009, foi projetado para descobrir exoplanetas, <br>\n",
    "  ou seja, planetas que orbitam estrelas fora do nosso sistema solar.\n",
    "- A missão Kepler teve como objetivo principal explorar a estrutura e a diversidade dos sistemas <br>\n",
    "planetários, contribuindo significativamente para a nossa compreensão do universo.\n",
    "\n",
    "#### Objetivos da Missão Kepler\n",
    "- **Exploração da Diversidade Planetária**: Investigar a variedade de planetas e suas características.\n",
    "- **Identificação de Exoplanetas**: Detectar planetas em zonas habitáveis, onde a vida poderia existir.\n",
    "- **Coleta de Dados**: Fornecer dados extensivos que apoiem futuras missões da NASA e pesquisas científicas.\n",
    "\n",
    "#### O Conjunto de Dados\n",
    "- O conjunto de dados contém informações sobre aproximadamente **3.373 exoplanetas confirmados**.\n",
    "- Inclui dados coletados durante as missões Kepler e K2, abrangendo vários anos de observação.\n",
    "- **Informações Disponíveis**:\n",
    "  - Nome da estrela hospedeira\n",
    "  - Características dos planetas (tamanho, massa, composição)\n",
    "  - Parâmetros orbitais (período orbital, distância da estrela)\n",
    "  - Métodos de descoberta (transito, velocidade radial)\n",
    "  - Propriedades estelares (tipo de estrela, temperatura)\n",
    "\n",
    "#### Importância dos Dados\n",
    "- Os dados do Kepler são cruciais para entender a formação e evolução dos sistemas planetários.\n",
    "- Permitem a análise estatística da distribuição de exoplanetas em diferentes tipos de estrelas e suas <br>características.\n",
    "- A pesquisa com esses dados pode revelar padrões que ajudam a identificar quais sistemas planetários <br> têm maior probabilidade de abrigar vida.\n",
    "\n"
   ]
  },
  {
   "cell_type": "markdown",
   "id": "a79c090f",
   "metadata": {},
   "source": [
    "## Tratamento de Dados\n",
    "**Bibliotecas Necessárias**"
   ]
  },
  {
   "cell_type": "code",
   "execution_count": 1,
   "id": "53ffa427",
   "metadata": {},
   "outputs": [],
   "source": [
    "import math\n",
    "import pandas as pd\n",
    "import numpy as np\n",
    "import matplotlib.pyplot as plt\n",
    "from scipy.stats import norm, shapiro, binom\n",
    "from scipy import stats"
   ]
  },
  {
   "cell_type": "markdown",
   "id": "7436ba7e",
   "metadata": {},
   "source": [
    "**Filtragem dos Dados**"
   ]
  },
  {
   "cell_type": "code",
   "execution_count": 2,
   "id": "b02bb3ba",
   "metadata": {},
   "outputs": [
    {
     "name": "stdout",
     "output_type": "stream",
     "text": [
      "Quantidade de dados que serão utilizados nos testes: 225\n"
     ]
    }
   ],
   "source": [
    "# 1) Lê o CSV para um DataFrame\n",
    "df_original = pd.read_csv('../data/planets.csv')\n",
    "\n",
    "# Constantes\n",
    "AU_m = 1.496e+11\n",
    "AU_rj = 69911 / 1.496e+8\n",
    "AU_rs = 696340 / 1.496e+8\n",
    "\n",
    "# 2) Máscara para filtrar os dados mantendo só as linhas onde 'col_importante' NÃO é NaN\n",
    "mask = (\n",
    "    (df_original['pl_hostname'] != '') &\n",
    "    (df_original['pl_pnum'] != '') &\n",
    "    (df_original['pl_orbper'].notna()) &\n",
    "    (df_original['pl_orbsmax'].notna()) &\n",
    "    (df_original['pl_orbeccen'].notna()) &\n",
    "    (df_original['pl_orbincl'].notna()) &\n",
    "    (df_original['pl_bmassj'] != '') &\n",
    "    (df_original['pl_radj'].notna()) &\n",
    "    (df_original['pl_dens'].notna()) &\n",
    "    (df_original['st_dist'].notna()) &\n",
    "    (df_original['st_teff'].notna()) &\n",
    "    (df_original['st_mass'].notna()) &\n",
    "    (df_original['st_rad'].notna())\n",
    ")\n",
    "\n",
    "df = df_original[mask]\n",
    "\n",
    "# 3) A partir daqui use df para suas análises\n",
    "print(f\"Quantidade de dados que serão utilizados nos testes: {len(df)}\")"
   ]
  },
  {
   "cell_type": "markdown",
   "id": "60ff2b98",
   "metadata": {},
   "source": [
    "## Utilizando os Dados"
   ]
  },
  {
   "cell_type": "markdown",
   "id": "2a616f82",
   "metadata": {},
   "source": [
    "### 🌍 Importância de Conhecer o Raio de um Planeta\n",
    "\n",
    "O raio de um planeta é uma das propriedades físicas mais fundamentais, e sua medição tem várias implicações importantes:\n",
    "\n",
    "\n",
    "- Estimar o Tamanho e Volume:\n",
    "O raio permite calcular o **volume** do planeta por meio da fórmula:\n",
    "\n",
    "$$\n",
    "V = \\frac{4}{3} \\pi r^3\n",
    "$$\n",
    "\n",
    "Com o volume e a massa, podemos determinar a **densidade média**, o que fornece pistas sobre a composição do planeta (rochoso, gasoso, etc.).\n",
    "\n",
    "\n",
    "- Identificar a Natureza do Planeta\n",
    "Planetas com raio pequeno (~0,5 a 1,5 raios terrestres) tendem a ser **rochosos**.\n",
    "Planetas com raio maior geralmente são **gasosos** ou do tipo \"mini-Netuno\".\n",
    "\n",
    "\n",
    "\n",
    "- Importante para a Detecção via Trânsito\n",
    "No método de trânsito, o raio determina o **quanto de luz a estrela perde** quando o planeta passa em frente a ela:\n",
    "\n",
    "$$\n",
    "\\text{Profundidade do trânsito} \\propto \\left(\\frac{R_{\\text{planeta}}}{R_{\\text{estrela}}}\\right)^2\n",
    "$$\n",
    "\n",
    "Ou seja, planetas maiores são mais fáceis de detectar por esse método.\n",
    "\n",
    "- Relacionado à Gravidade Superficial\n",
    "Com o raio e a massa, é possível calcular a **gravidade na superfície**:\n",
    "\n",
    "$$\n",
    "g = \\frac{G \\cdot M}{R^2}\n",
    "$$\n",
    "\n",
    "Essa gravidade influencia a capacidade do planeta de **reter uma atmosfera** e a possibilidade de pouso de sondas ou presença de vida.\n",
    "\n",
    "- Influência na Habitabilidade\n",
    "Planetas muito pequenos podem **não reter atmosfera**.\n",
    "Planetas muito grandes podem ter atmosferas espessas e inóspitas.\n",
    "O tamanho afeta também a **atividade geológica**, essencial para o equilíbrio climático.\n",
    "\n",
    "- Resumindo\n",
    "O raio afeta **densidade, gravidade, detecção via trânsito, composição e habitabilidade**. É um dos primeiros critérios usados para avaliar a semelhança com a Terra e o potencial para abrigar vida.\n",
    "\n",
    "\n",
    "\n",
    "\n",
    "Como o raio de cada planeta está medido em **raios de júpiter**, faremos uma conversão do raio da Terra:\n",
    "\n",
    "$R_{Terra} = 6378,1~km = \\frac{6378,1}{69911} \\approx 0,09123$ raios de júpiter"
   ]
  },
  {
   "cell_type": "code",
   "execution_count": 3,
   "id": "cb1ec5c3",
   "metadata": {},
   "outputs": [
    {
     "ename": "NameError",
     "evalue": "name 'df_filtrado' is not defined",
     "output_type": "error",
     "traceback": [
      "\u001b[0;31m---------------------------------------------------------------------------\u001b[0m",
      "\u001b[0;31mNameError\u001b[0m                                 Traceback (most recent call last)",
      "Cell \u001b[0;32mIn[3], line 6\u001b[0m\n\u001b[1;32m      3\u001b[0m x      \u001b[38;5;241m=\u001b[39m \u001b[38;5;241m0.09123\u001b[39m     \u001b[38;5;66;03m# valor alvo (float)\u001b[39;00m\n\u001b[1;32m      4\u001b[0m tol    \u001b[38;5;241m=\u001b[39m \u001b[38;5;241m0.1\u001b[39m        \u001b[38;5;66;03m# tolerância, ex.: ±0.1\u001b[39;00m\n\u001b[0;32m----> 6\u001b[0m mask_r \u001b[38;5;241m=\u001b[39m (\u001b[43mdf_filtrado\u001b[49m[coluna] \u001b[38;5;241m-\u001b[39m x)\u001b[38;5;241m.\u001b[39mabs() \u001b[38;5;241m<\u001b[39m\u001b[38;5;241m=\u001b[39m tol\n\u001b[1;32m      7\u001b[0m df_r \u001b[38;5;241m=\u001b[39m df_filtrado[mask_r]\n\u001b[1;32m      9\u001b[0m \u001b[38;5;66;03m# Média\u001b[39;00m\n",
      "\u001b[0;31mNameError\u001b[0m: name 'df_filtrado' is not defined"
     ]
    }
   ],
   "source": [
    "# Parâmetros\n",
    "coluna = \"pl_radj\"\n",
    "x      = 0.09123     # valor alvo (float)\n",
    "tol    = 0.1        # tolerância, ex.: ±0.1\n",
    "\n",
    "mask_r = (df_filtrado[coluna] - x).abs() <= tol\n",
    "df_r = df_filtrado[mask_r]\n",
    "\n",
    "# Média\n",
    "media = df_r[coluna].mean()\n",
    "\n",
    "# Variância amostral\n",
    "variancia_amostral = df_r[coluna].var(ddof=1)\n",
    "\n",
    "# Desvio padrão\n",
    "desvio_amostral = df_r[coluna].std(ddof=1)\n",
    "\n",
    "print(f\"Cerca de {len(df_r[coluna])} planetas possuem o raio semelhante ao da Terra!\")\n",
    "# Mostra quantos, dos planetas encontrados, possuem raio semelhante ao da Terra\n",
    "print(f\"Proporção dos planetas encontrados: {len(df_r)/len(df_filtrado) :.7f}\")\n",
    "print(f\"Média do raio dos planetas: {media:.7f}\")\n",
    "print(f\"Variância (amost.): {variancia_amostral:.7f}\")\n",
    "print(f\"Desvio-padrão (amost.): {desvio_amostral:.7f}\")\n",
    "\n",
    "# --- plotando histograma ---\n",
    "plt.figure(figsize=(8, 5))\n",
    "\n",
    "df_r[coluna].plot.hist(bins=20, color=\"skyblue\", edgecolor=\"black\")\n",
    "plt.title(\"Histograma dos Raios\")\n",
    "plt.xlabel(\"Raio\")\n",
    "plt.ylabel(\"Frequência\")\n",
    "plt.grid(alpha=0.7)\n",
    "plt.show()\n",
    "\n",
    "# df_fitrado: dados na tabela que possuem um valor de raio\n",
    "menores = (df_filtrado[coluna] < x).mean() * 100\n",
    "maiores = (df_filtrado[coluna] > x).mean() * 100\n",
    "print(f\"Proporção (planetas menores que a Terra): {menores:.2f}%\")\n",
    "print(f\"Proporção (planetas maiores que a Terra): {maiores:.2f}%\\n\")\n",
    "print(f\"Proporção com raio médio de todos os planetas: {media/df_filtrado[coluna].mean():.5f}\")"
   ]
  },
  {
   "cell_type": "markdown",
   "id": "4702a305",
   "metadata": {},
   "source": [
    "Calculando IC de 95% para a média dos raio:\n",
    "\n",
    "$n = 380, \\alpha = 0,05, \\hat{p} \\approxeq 0,13335$\n",
    "\n",
    "$IC: 0,13335 \\pm z_{0,025} \\cdot \\sqrt{\\frac{0,13335 \\cdot (1-0,13335)}{380}} $"
   ]
  },
  {
   "cell_type": "code",
   "execution_count": null,
   "id": "a8aac42a",
   "metadata": {},
   "outputs": [
    {
     "name": "stdout",
     "output_type": "stream",
     "text": [
      "IC 95% (Normal): [0.0896, 0.1664]\n"
     ]
    }
   ],
   "source": [
    "# Média dos raios semelhantes à terra / Média dos raios de todos os planetas\n",
    "p_hat = media/df_filtrado[coluna].mean()\n",
    "alpha = 0.05\n",
    "z = norm.ppf(1 - alpha/2)\n",
    "\n",
    "# Margem de erro\n",
    "se = math.sqrt(p_hat * (1 - p_hat) / len(df_filtrado))\n",
    "me = z * se\n",
    "\n",
    "ic_lower = p_hat - me\n",
    "ic_upper = p_hat + me\n",
    "\n",
    "print(f\"IC 95% (Normal): [{ic_lower:.4f}, {ic_upper:.4f}]\")"
   ]
  },
  {
   "cell_type": "markdown",
   "id": "288282f6",
   "metadata": {},
   "source": [
    "Estamos 95% confiantes de que a proporção populacional verdadeira está no intervalo $[0,0992;~0,1675]$."
   ]
  },
  {
   "cell_type": "markdown",
   "id": "cf57b69d",
   "metadata": {},
   "source": [
    "\n",
    "### ⚖️ Massa de um Exoplaneta\n",
    "\n",
    "A massa de um exoplaneta é uma das grandezas mais importantes para entender sua **composição, estrutura, gravidade** e até seu potencial de **habitabilidade**. Veja os principais motivos:\n",
    "\n",
    "---\n",
    "\n",
    "#### 🔹 1. Determinação da Densidade\n",
    "\n",
    "Com a **massa (M)** e o **raio (R)** do planeta, é possível calcular sua **densidade média**:\n",
    "\n",
    "$$\n",
    "\\rho = \\frac{M}{\\frac{4}{3} \\pi R^3}\n",
    "$$\n",
    "\n",
    "Essa densidade nos ajuda a inferir a **composição interna** do planeta:\n",
    "- Densidade alta → planeta rochoso (tipo Terra)\n",
    "- Densidade baixa → planeta gasoso (tipo Júpiter)\n",
    "\n",
    "---\n",
    "\n",
    "#### 🔹 2. Cálculo da Gravidade Superficial\n",
    "\n",
    "A massa também é essencial para calcular a **gravidade na superfície** do planeta:\n",
    "\n",
    "$$\n",
    "g = \\frac{G \\cdot M}{R^2}\n",
    "$$\n",
    "\n",
    "A gravidade afeta:\n",
    "- Capacidade de reter atmosfera\n",
    "- Condições para pouso de sondas\n",
    "- Conforto para vida (gravidade muito forte ou fraca pode ser um problema)\n",
    "\n",
    "---\n",
    "\n",
    "#### 🔹 3. Estimativa de Atmosfera\n",
    "\n",
    "Planetas com **massa muito baixa** podem não ter força gravitacional suficiente para manter uma atmosfera estável.  \n",
    "Já os muito massivos podem ter atmosferas densas e hostis, como Netuno ou Júpiter.\n",
    "\n",
    "---\n",
    "\n",
    "#### 🔹 4. Classificação do Planeta\n",
    "\n",
    "A massa é usada para **classificar o tipo do exoplaneta**:\n",
    "- **Menos de 2 massas terrestres** → geralmente rochosos\n",
    "- **De 2 a 10 massas terrestres** → super-Terras ou mini-Netunos\n",
    "- **Acima de 10 massas terrestres** → gasosos ou gigantes\n",
    "\n",
    "---\n",
    "\n",
    "#### ✅ Resumo\n",
    "\n",
    "Conhecer a massa de um exoplaneta é crucial para entender sua **composição, atmosfera, gravidade e habitabilidade**. Junto ao raio, ela permite uma caracterização muito mais precisa do planeta.\n",
    "\n",
    "\n",
    "\n",
    "Como o massa de cada planeta também está medido em **raios de júpiter**, faremos uma conversão da massa da Terra:\n",
    "\n",
    "$M_{Terra} = 5,9722 \\cdot 10^{24}~kg = \\frac{5,9722 \\cdot 10^{24}}{1,898 \\cdot 10^{27}} \\approx 0,003147$ massas de júpiter"
   ]
  },
  {
   "cell_type": "code",
   "execution_count": null,
   "id": "d2b6a2ff",
   "metadata": {},
   "outputs": [],
   "source": [
    "# Parâmetros\n",
    "coluna = \"pl_bmassj\"\n",
    "x      = 0.003147     # valor alvo (float)\n",
    "tol    = 0.01       # tolerância, ex.: ±0.01\n",
    "\n",
    "mask_m = (df_filtrado[coluna] - x).abs() <= tol\n",
    "df_m = df_filtrado[mask_m]\n",
    "\n",
    "# Média\n",
    "media = df_m[coluna].mean()\n",
    "\n",
    "# Variância amostral\n",
    "variancia_amostral = df_m[coluna].var(ddof=1)\n",
    "\n",
    "# Desvio padrão\n",
    "desvio_amostral = df_m[coluna].std(ddof=1)\n",
    " \n",
    "print(f\"Cerca de {len(df_m[coluna])} planetas possuem massa semelhante a da Terra!\")\n",
    "print(f\"Proporção dos planetas encontrados: {(len(df_m)/len(df_filtrado)) * 100 :.2f}%\")\n",
    "print(f\"Média da massa dos planetas: {media:.7f}\")\n",
    "print(f\"Variância (amost.): {variancia_amostral:.7f}\")\n",
    "print(f\"Desvio-padrão (amost.): {desvio_amostral:.7f}\")\n",
    " \n",
    "serie = df_m[coluna]\n",
    " \n",
    "# --- plotando histograma ---\n",
    "plt.figure(figsize=(8, 5))\n",
    " \n",
    "serie.plot.hist(bins=20, color=\"skyblue\", edgecolor=\"black\")\n",
    "plt.title(\"Histograma das Massas\")\n",
    "plt.xlabel(\"Massa\")\n",
    "plt.ylabel(\"Frequência\")\n",
    "plt.grid(alpha=0.7)\n",
    "plt.show()\n",
    "\n",
    "menores = (df_m[coluna] < x).mean() * 100\n",
    "print(f\"Proporção (planetas menos massivo que a Terra): {menores:.2f}%\")\n",
    "print(f\"Proporção (planetas mais massivo que a Terra): {100 - menores:.2f}%\")\n",
    "print(f\"Proporção com raio médio de todos os planetas: {media/df_filtrado[coluna].mean():.5f}\")"
   ]
  },
  {
   "cell_type": "markdown",
   "id": "146dc8b3",
   "metadata": {},
   "source": [
    "Calculando IC de 95% para a média das massa:\n",
    "\n",
    "$n = 380, \\alpha = 0,05, \\hat{p} \\approxeq 0,00605$\n",
    "\n",
    "$IC: 0,00605 \\pm z_{0,025} \\cdot \\sqrt{\\frac{0,00605 \\cdot (1-0,00605)}{380}} $"
   ]
  },
  {
   "cell_type": "code",
   "execution_count": null,
   "id": "b9c9b01e",
   "metadata": {},
   "outputs": [],
   "source": [
    "# Média das massa semelhantes à terra / Média das massa de todos os planetas\n",
    "p_hat = media/df_filtrado[coluna].mean()\n",
    "alpha = 0.05\n",
    "z = norm.ppf(1 - alpha/2)\n",
    "\n",
    "# Margem de erro\n",
    "se = math.sqrt(p_hat * (1 - p_hat) / len(df_filtrado))\n",
    "me = z * se\n",
    "\n",
    "ic_lower = p_hat - me\n",
    "ic_upper = p_hat + me\n",
    "\n",
    "print(f\"IC 95% (Normal): [{ic_lower:.4f}, {ic_upper:.4f}]\")"
   ]
  },
  {
   "cell_type": "markdown",
   "id": "afb35fb5",
   "metadata": {},
   "source": [
    "Com isso, concluímos que a proporção da massa populacional dos planetas semelhantes a Terra está no intervalo $[-0,0017;~0,0139]$.\n"
   ]
  },
  {
   "cell_type": "markdown",
   "id": "c0cfbd74",
   "metadata": {},
   "source": [
    "### Excentricidade Orbital de um Exoplaneta\n",
    "\n",
    "A **excentricidade orbital** (geralmente representada por **e**) descreve o **formato da órbita** de um planeta ao redor de sua estrela. Ela é essencial para entender o **clima, estabilidade orbital e potencial de habitabilidade** do planeta.\n",
    "\n",
    "---\n",
    "\n",
    "#### 🔹 1. Forma da Órbita\n",
    "\n",
    "A excentricidade é um número entre 0 e 1:\n",
    "- **e = 0** → órbita perfeitamente **circular**\n",
    "- **0 < e < 1** → órbita **elíptica**\n",
    "- **e = 1** → trajetória parabólica (não está em órbita)\n",
    "\n",
    "---\n",
    "\n",
    "#### 🔹 2. Variação na Distância até a Estrela\n",
    "\n",
    "Em órbitas elípticas, a distância entre o planeta e a estrela muda ao longo do tempo.  \n",
    "Isso afeta diretamente a **quantidade de radiação recebida**, e, portanto, a **temperatura** do planeta.\n",
    "\n",
    "A distância mínima (periastro) e máxima (apoastro) podem ser calculadas por:\n",
    "\n",
    "- **Periastro**:  \n",
    "  $$\n",
    "  r_{\\text{min}} = a(1 - e)\n",
    "  $$\n",
    "\n",
    "- **Apoastro**:  \n",
    "  $$\n",
    "  r_{\\text{max}} = a(1 + e)\n",
    "  $$\n",
    "\n",
    "Onde \\( a \\) é o **semi-eixo maior** da órbita.\n",
    "\n",
    "---\n",
    "\n",
    "#### 🔹 3. Impacto no Clima e Habitabilidade\n",
    "\n",
    "Órbitas muito excêntricas podem gerar **variações climáticas extremas**, dificultando a estabilidade das condições para a vida.\n",
    "\n",
    "- Excentricidade baixa → clima mais **estável**\n",
    "- Excentricidade alta → clima com **grandes oscilações sazonais**\n",
    "\n",
    "---\n",
    "\n",
    "#### 🔹 4. Pistas sobre Formação Planetária\n",
    "\n",
    "A distribuição das excentricidades nos ajuda a entender:\n",
    "- A **história de formação e migração** dos planetas\n",
    "- **Interações gravitacionais** com outros planetas ou estrelas próximas\n",
    "- Possíveis **colisões ou perturbações** passadas\n",
    "\n",
    "---\n",
    "\n",
    "### ✅ Resumo\n",
    "\n",
    "A excentricidade orbital afeta a **distância até a estrela**, a **variação de temperatura**, a **possibilidade de vida estável** e fornece pistas sobre a **formação do sistema planetário**.\n",
    "\n",
    "$e_{Terra} \\approx 0,0167$ "
   ]
  },
  {
   "cell_type": "code",
   "execution_count": null,
   "id": "0d291c75",
   "metadata": {},
   "outputs": [],
   "source": [
    "# Parâmetros\n",
    "coluna = \"pl_orbeccen\"\n",
    "x      = 0.0167     # valor alvo (float)\n",
    "tol    = 0.01       # tolerância, ex.: ±0.01\n",
    "\n",
    "mask_e = (df_filtrado[coluna] - x).abs() <= tol\n",
    "df_e = df_filtrado[mask_e]\n",
    "\n",
    "# Média\n",
    "media = df_e[coluna].mean()\n",
    "\n",
    "# Variância amostral\n",
    "variancia_amostral = df_e[coluna].var(ddof=1)\n",
    "\n",
    "# Desvio padrão\n",
    "desvio_amostral = df_e[coluna].std(ddof=1)\n",
    " \n",
    "print(f\"Cerca de {len(df_e[coluna])} planetas possuem excentridade orbital semelhante a da Terra!\")\n",
    "print(f\"Proporção dos planetas encontrados: {(len(df_e)/len(df_filtrado)) * 100 :.2f}%\")\n",
    "print(f\"Média da excentridade dos planetas: {media:.7f}\")\n",
    "print(f\"Variância (amost.): {variancia_amostral:.7f}\")\n",
    "print(f\"Desvio-padrão (amost.): {desvio_amostral:.7f}\")\n",
    " \n",
    "serie = df_e[coluna]\n",
    " \n",
    "# --- plotando histograma ---\n",
    "plt.figure(figsize=(8, 5))\n",
    " \n",
    "serie.plot.hist(bins=20, color=\"skyblue\", edgecolor=\"black\")\n",
    "plt.title(\"Histograma das Excentridades\")\n",
    "plt.xlabel(\"Excentridade Orbital\")\n",
    "plt.ylabel(\"Frequência\")\n",
    "plt.grid(alpha=0.7)\n",
    "plt.show()\n",
    "\n",
    "menores = (df_r[coluna] < x).mean() * 100\n",
    "print(f\"Proporção (planetas com excentridade menor que a Terra): {menores:.2f}%\")\n",
    "print(f\"Proporção (planetas com excentridade maior que a Terra): {100 - menores:.2f}%\")\n",
    "print(f\"Proporção com excentridade média de todos os planetas: {media/df_filtrado[coluna].mean():.5f}\")\n"
   ]
  },
  {
   "cell_type": "markdown",
   "id": "a37ded45",
   "metadata": {},
   "source": [
    "Calculando IC de 95% para a média das Excentricidades:\n",
    "\n",
    "$n = 380, \\alpha = 0,05, \\hat{p} \\approxeq 0,19751$\n",
    "\n",
    "$IC: 0,19751 \\pm z_{0,025} \\cdot \\sqrt{\\frac{0,19751 \\cdot (1-0,19751)}{380}} $\n"
   ]
  },
  {
   "cell_type": "code",
   "execution_count": null,
   "id": "0f3a1021",
   "metadata": {},
   "outputs": [],
   "source": [
    "################# IC de Excentridade #################\n",
    "\n",
    "# Média das excentridades semelhantes à terra / Média das excentricidades orbitais de todos os planetas\n",
    "p_hat = media/df_filtrado[coluna].mean()\n",
    "alpha = 0.05\n",
    "z = norm.ppf(1 - alpha/2)\n",
    "\n",
    "# Margem de erro\n",
    "se = math.sqrt(p_hat * (1 - p_hat) / len(df_filtrado))\n",
    "me = z * se\n",
    "\n",
    "ic_lower = p_hat - me\n",
    "ic_upper = p_hat + me\n",
    "\n",
    "print(f\"IC 95% (Normal): [{ic_lower:.4f}, {ic_upper:.4f}]\")"
   ]
  },
  {
   "cell_type": "markdown",
   "id": "fc3d490f",
   "metadata": {},
   "source": [
    "Com isso, concluímos que a proporção da excentridade populacional dos planetas semelhantes a Terra está no intervalo $[0,1518;~0,2433]$.\n"
   ]
  },
  {
   "cell_type": "markdown",
   "id": "cb9ecce7",
   "metadata": {},
   "source": [
    "### 🕒 Importância do Período Orbital de um Exoplaneta\n",
    "\n",
    "O **período orbital** é o tempo que um planeta leva para completar uma volta ao redor de sua estrela. Esse dado é fundamental para entender a **dinâmica orbital**, a **posição do planeta na zona habitável** e até para a **detecção do exoplaneta**.\n",
    "\n",
    "---\n",
    "\n",
    "#### 🔹 1. Relação com a Distância da Estrela (Lei de Kepler)\n",
    "\n",
    "Através da **Terceira Lei de Kepler**, é possível relacionar o período orbital (**P**) com o **semi-eixo maior da órbita (a)**:\n",
    "\n",
    "$$\n",
    "P^2 = \\frac{4\\pi^2 a^3}{G(M + m)}\n",
    "$$\n",
    "\n",
    "Para planetas com massa muito menor que a da estrela, simplifica-se para:\n",
    "\n",
    "$$\n",
    "P^2 \\propto a^3\n",
    "$$\n",
    "\n",
    "Essa relação mostra que planetas mais distantes da estrela têm **períodos mais longos**.\n",
    "\n",
    "---\n",
    "\n",
    "#### 🔹 2. Indicação de Temperatura Média\n",
    "\n",
    "Quanto **maior o período orbital**, **mais distante o planeta está da estrela**, o que geralmente indica **temperaturas mais baixas**.\n",
    "\n",
    "- Períodos curtos → órbitas próximas → planetas mais quentes\n",
    "- Períodos longos → órbitas distantes → planetas mais frios\n",
    "\n",
    "Isso é importante para avaliar se o planeta está na **zona habitável** — a região onde a temperatura permite a existência de água líquida.\n",
    "\n",
    "---\n",
    "\n",
    "#### 🔹 3. Detecção por Trânsito ou Velocidade Radial\n",
    "\n",
    "O período orbital é uma **medida-chave** nos métodos de detecção:\n",
    "\n",
    "- No método do **trânsito**, o período é o tempo entre duas quedas sucessivas de brilho.\n",
    "- No método da **velocidade radial**, é o tempo entre oscilações no espectro da estrela.\n",
    "\n",
    "Quanto menor o período, **mais fácil detectar** o planeta (mais trânsitos visíveis em menos tempo).\n",
    "\n",
    "---\n",
    "\n",
    "#### 🔹 4. Estabilidade Orbital\n",
    "\n",
    "O período também ajuda a entender **resonâncias orbitais** com outros planetas e a **estabilidade de longo prazo** do sistema. Sistemas com períodos ajustados podem indicar **interações gravitacionais importantes**.\n",
    "\n",
    "---\n",
    "\n",
    "### ✅ Resumo\n",
    "\n",
    "O período orbital indica **a distância do planeta à estrela**, influencia a **temperatura**, a **detecção do planeta** e até a **estabilidade do sistema planetário**. É um parâmetro essencial para caracterizar o ambiente ao redor do exoplaneta.\n",
    "\n",
    "**Planetas cujo o período orbital (tempo de revolução em torno da estrela) se assemelha ao da Terra**\n",
    "\n",
    "$P_{Terra} \\approx 365,25 \\text{ dias (0,25 = +4 horas)}$\n",
    "\n",
    "Nesta análise, buscamos identificar exoplanetas que apresentem **períodos orbitais próximos ao da Terra**, isto é, o tempo que levam para dar uma volta completa em torno de sua estrela hospedeira.\n",
    "\n",
    "Para isso, consideramos planetas cujo período orbital esteja dentro de uma faixa de tolerância de ±20 dias, ou seja:\n",
    "\n",
    "$[345,25 \\leqslant P_{exoplaneta} \\leqslant 385,25]$\n",
    "\n",
    "### 🔢 Parâmetros utilizados:\n",
    "\n",
    "- **Coluna analisada:** `pl_orbper`\n",
    "- **Valor de referência (Terra):** $365{,}25$ dias\n",
    "- **Tolerância ($\\pm$):** 20 dias\n",
    "- **Intervalo considerado:** [345,25 ; 385,25] dias\n",
    "- **Total de planetas após filtro prévio:** `len(df_filtrado)`\n",
    "\n",
    "A seguir, serão calculadas:\n",
    "- A **quantidade de planetas** com período semelhante ao da Terra;\n",
    "- A **proporção** em relação ao total da amostra;\n",
    "- A **média**, **variância** e **desvio padrão** desses planetas;\n",
    "- Um **histograma** ilustrando a distribuição dos períodos;\n",
    "- E o **intervalo de confiança (95%)** da razão entre a média dos semelhantes e a média global.\n"
   ]
  },
  {
   "cell_type": "code",
   "execution_count": null,
   "id": "1c19dfab",
   "metadata": {},
   "outputs": [],
   "source": [
    "# --------------------- FILTRO PARA PERÍODO ORBITAL ------------------------\n",
    "\n",
    "# Criando um novo DataFrame apenas com os dados relevantes para a análise do período orbital\n",
    "\n",
    "df_orbper = df_original[\n",
    "    (df_original['pl_orbper'].notna()) &                          # período orbital válido\n",
    "    (df_original['pl_hostname'].str.strip() != '') &             # nome da estrela não vazio\n",
    "    (df_original['st_teff'].notna())                             # temperatura da estrela válida\n",
    "]\n",
    "\n",
    "print(f\"Total de planetas com dados suficientes para análise do período orbital: {len(df_orbper)}\")\n"
   ]
  },
  {
   "cell_type": "code",
   "execution_count": null,
   "id": "abe59c54",
   "metadata": {},
   "outputs": [],
   "source": [
    "# ---------------------- PERÍODO ORBITAL -----------------------\n",
    "\n",
    "# Parâmetros\n",
    "coluna = \"pl_orbper\"\n",
    "x      = 365.25     # valor de referência (dias)\n",
    "tol    = 20         # tolerância: ±20 dias\n",
    "\n",
    "# Filtro para planetas com período semelhante ao da Terra\n",
    "mask_p = (df_orbper[coluna] - x).abs() <= tol\n",
    "df_p = df_orbper[mask_p]\n",
    "\n",
    "# Média\n",
    "media = df_p[coluna].mean()\n",
    "\n",
    "# Variância amostral\n",
    "variancia_amostral = df_p[coluna].var(ddof=1)\n",
    "\n",
    "# Desvio padrão amostral\n",
    "desvio_amostral = df_p[coluna].std(ddof=1)\n",
    "\n",
    "print(f\"Cerca de {len(df_p[coluna])} planetas possuem período orbital semelhante ao da Terra!\")\n",
    "print(f\"Proporção dos planetas encontrados: {(len(df_p)/len(df_orbper)) * 100 :.2f}%\")\n",
    "print(f\"Média do período orbital: {media:.7f} dias\")\n",
    "print(f\"Variância (amost.): {variancia_amostral:.7f}\")\n",
    "print(f\"Desvio-padrão (amost.): {desvio_amostral:.7f}\")\n",
    "\n",
    "# --- plotando histograma ---\n",
    "plt.figure(figsize=(8, 5))\n",
    "df_p[coluna].plot.hist(bins=20, color=\"skyblue\", edgecolor=\"black\")\n",
    "plt.title(\"Histograma dos Períodos Orbitais\")\n",
    "plt.xlabel(\"Período Orbital (dias)\")\n",
    "plt.ylabel(\"Frequência\")\n",
    "plt.grid(alpha=0.7)\n",
    "plt.show()\n",
    "\n",
    "# Proporções de planetas menores e maiores que o período da Terra\n",
    "menores = (df_orbper[coluna] < x).mean() * 100\n",
    "maiores = (df_orbper[coluna] > x).mean() * 100\n",
    "print(f\"Proporção (planetas com período menor que a Terra): {menores:.2f}%\")\n",
    "print(f\"Proporção (planetas com período maior que a Terra): {maiores:.2f}%\")\n",
    "print(f\"Proporção com período médio em relação ao total: {media/df_orbper[coluna].mean():.5f}\")\n"
   ]
  },
  {
   "cell_type": "code",
   "execution_count": null,
   "id": "c29a8325",
   "metadata": {},
   "outputs": [],
   "source": [
    "# Intervalo de confiança para média (forma correta para comparação entre médias)\n",
    "media_total = df_orbper[coluna].mean()\n",
    "n = len(df_p)\n",
    "\n",
    "# Erro padrão da média\n",
    "se = df_p[coluna].std(ddof=1) / math.sqrt(n)\n",
    "\n",
    "# Parâmetros do IC\n",
    "alpha = 0.05\n",
    "z = norm.ppf(1 - alpha / 2)\n",
    "\n",
    "# Margem de erro e IC\n",
    "me = z * se\n",
    "ic_lower = media - me\n",
    "ic_upper = media + me\n",
    "\n",
    "print(f\"IC 95% para a média do período orbital (em dias): [{ic_lower:.2f}, {ic_upper:.2f}]\")\n"
   ]
  },
  {
   "cell_type": "markdown",
   "id": "04e12f10",
   "metadata": {},
   "source": [
    "### Semieixo Maior\n",
    "O semieixo maior é um termo fundamental em geometria e astronomia. Em uma elipse, ele representa a metade <br> do eixo maior, a distância do centro da elipse ao ponto mais distante da curva. Em astronomia, o semieixo maior <br> descreve a distância média de um objeto que orbita outro, como um planeta em torno do Sol.\n",
    "\n",
    "- O semieixo maior \"a\" caracteriza o tamanho médio da órbita e está diretamente relacionado ao período orbital (T) <br> pela Terceira Lei de Kepler:\n",
    "$T^2 \\propto a^3$, onde T é o tempo que o corpo leva para dar uma volta completa.\n",
    "\n",
    "- Por que é útil?\n",
    "    - Permite calcular energia orbital média e velocidade média.\n",
    "    - Ajuda a determinar o período de revolução.\n",
    "    - Serve como parâmetro fundamental em simulações e missões espaciais.\n",
    "    - Nos ajudará a determinar valores de acordo com os dados obtidos."
   ]
  },
  {
   "cell_type": "code",
   "execution_count": null,
   "id": "52242edb",
   "metadata": {},
   "outputs": [
    {
     "data": {
      "image/png": "[encoded data removed]",
      "text/plain": [
       "<Figure size 800x500 with 1 Axes>"
      ]
     },
     "metadata": {},
     "output_type": "display_data"
    },
    {
     "name": "stdout",
     "output_type": "stream",
     "text": [
      "Média da massa das estrelas em Massas Solares 1.0802666666666667\n"
     ]
    },
    {
     "data": {
      "image/png": "[encoded data removed]",
      "text/plain": [
       "<Figure size 640x480 with 1 Axes>"
      ]
     },
     "metadata": {},
     "output_type": "display_data"
    },
    {
     "name": "stdout",
     "output_type": "stream",
     "text": [
      "Estatística = 0.9863, p-valor = 0.0287\n",
      "Distribuição não é normal (rejeita H0)\n"
     ]
    }
   ],
   "source": [
    "# Histograma\n",
    "plt.figure(figsize=(8, 5))\n",
    "plt.hist(df['st_mass'].dropna(), bins=15, color='skyblue', edgecolor='black')\n",
    "plt.title('Distribuição da Massa das Estrelas')\n",
    "plt.xlabel('Massa (em massas solares)')\n",
    "plt.ylabel('Frequência')\n",
    "plt.grid(True)\n",
    "plt.show()\n",
    "\n",
    "# Média da massa das estrelas em Massas Solares\n",
    "Mmestre = df[\"st_mass\"].mean()\n",
    "print(f\"Média da massa das estrelas em Massas Solares {Mmestre}\")\n",
    "\n",
    "# plt.figure(figsize=(8, 5))\n",
    "# sns.kdeplot(df['st_mass'].dropna(), fill=True, color='skyblue')\n",
    "# plt.title('Distribuição KDE da Massa das Estrelas')\n",
    "# plt.xlabel('Massa (em massas solares)')\n",
    "# plt.grid(True)\n",
    "# plt.show()\n",
    "\n",
    "# sns.kdeplot(df['st_mass'].dropna(), fill=True, color='skyblue')\n",
    "\n",
    "media = df['st_mass'].mean()\n",
    "desvio = df['st_mass'].std()\n",
    "x = np.linspace(media - 4*desvio, media + 4*desvio, 100)\n",
    "y = norm.pdf(x, media, desvio)\n",
    "\n",
    "plt.hist(df['st_mass'].dropna(), bins=15, density=True, alpha=0.6, color='skyblue')\n",
    "plt.plot(x, y, 'r-', lw=2)  # Curva normal\n",
    "plt.title('Comparação com Distribuição Normal')\n",
    "plt.xlabel('Massa')\n",
    "plt.ylabel('Densidade')\n",
    "plt.grid(True)\n",
    "plt.show()\n",
    "\n",
    "stat, p = shapiro(df['st_mass'].dropna())\n",
    "print(f'Estatística = {stat:.4f}, p-valor = {p:.4f}')\n",
    "if p > 0.05:\n",
    "    print(\"Distribuição aparentemente normal (falha em rejeitar H0)\")\n",
    "else:\n",
    "    print(\"Distribuição não é normal (rejeita H0)\")\n",
    "\n"
   ]
  },
  {
   "cell_type": "code",
   "execution_count": null,
   "id": "fb546d99",
   "metadata": {},
   "outputs": [
    {
     "data": {
      "image/png": "[encoded data removed]",
      "text/plain": [
       "<Figure size 800x500 with 1 Axes>"
      ]
     },
     "metadata": {},
     "output_type": "display_data"
    },
    {
     "name": "stdout",
     "output_type": "stream",
     "text": [
      "Média da massa dos planetas em Massas de Júpiter 1.5108595111111112\n"
     ]
    }
   ],
   "source": [
    "# Histograma\n",
    "plt.figure(figsize=(8, 5))\n",
    "plt.hist(df['pl_bmassj'].dropna(), bins=15, color='skyblue', edgecolor='black')\n",
    "plt.title('Distribuição da Massa dos Exoplanetas')\n",
    "plt.xlabel('Massa (em massas de júpiter)')\n",
    "plt.ylabel('Frequência')\n",
    "plt.grid(True)\n",
    "plt.show()\n",
    "\n",
    "# Média da massa das estrelas em Massas de Júpiter\n",
    "Mplaneta = df['pl_bmassj'].mean()\n",
    "print(f\"Média da massa dos planetas em Massas de Júpiter {Mplaneta}\")\n",
    "\n",
    "# sns.kdeplot(df['pl_bmassj'].dropna(), fill=True, color='skyblue')\n",
    "\n",
    "# stat, p = shapiro(df['st_mass'].dropna())\n",
    "# print(f'Estatística = {stat:.4f}, p-valor = {p:.4f}')\n",
    "# if p > 0.05:\n",
    "#     print(\"Distribuição aparentemente normal (falha em rejeitar H0)\")\n",
    "# else:\n",
    "#     print(\"Distribuição não é normal (rejeita H0)\")"
   ]
  },
  {
   "cell_type": "markdown",
   "id": "c7f4d181",
   "metadata": {},
   "source": [
    "A fórmula do semieixo maior da órbita é dada por:\n",
    "$$\n",
    "a^3 = \\frac{G \\cdot (M_{mestre} + M_{planeta} \\cdot P^2)}{4\\pi^2}\n",
    "$$\n",
    "Onde\n",
    "- $G$ = Constante gravitacional = $6.67384 \\times 10^{-11} \\textrm{m}^{3}\\textrm{kg}^{-1}\\textrm{s}^{-2}$ <br>\n",
    "- $M_{mestre}$ = Massa do planeta maior <br>\n",
    "- $M_{planeta}$ = Massa do planeta menor <br>\n",
    "- $P$ = Período orbital em segundos"
   ]
  },
  {
   "cell_type": "code",
   "execution_count": null,
   "id": "537c0ef6",
   "metadata": {},
   "outputs": [
    {
     "name": "stdout",
     "output_type": "stream",
     "text": [
      "Semieixo Maior: 1.642e+10 m\n",
      "Semieixo Maior: 0.110 UA\n"
     ]
    }
   ],
   "source": [
    "# Semieixo maior da [orbita]\n",
    "G = 6.67384e-11\n",
    "P = df['pl_orbper'].mean() * 86400\n",
    "Mmestre_kg = Mmestre * 1.989e+30\n",
    "Mplaneta_kg = Mplaneta * 1.898e+27\n",
    "a_cubo = G * (Mmestre_kg + Mplaneta_kg) * P**2 / (4 * math.pi**2)\n",
    "a = math.cbrt(a_cubo)\n",
    "a_au = a / AU_m\n",
    "\n",
    "# Valor do Semieixo maior com base nas médias\n",
    "print(f'Semieixo Maior: {a:.3e} m\\nSemieixo Maior: {a_au:.3f} UA')"
   ]
  },
  {
   "cell_type": "markdown",
   "id": "4f7ef2a3",
   "metadata": {},
   "source": [
    "Note que, em média, os exoplanetas encontrados orbitam sua estrela a cerca de 0,11 unidades astronômicas, uma órbita <br> bem mais próxima que a da Terra (1 UA), o que é comum para exoplanetas do tipo \"hot Jupiter\" (Júpiteres quentes) ou exoplanetas <br> com períodos curtos."
   ]
  },
  {
   "cell_type": "markdown",
   "id": "68ac3a2d",
   "metadata": {},
   "source": [
    "### Velocidade Orbital\n",
    "Velocidade orbital é a velocidade mínima que um objeto (satélite, nave espacial, asteroide etc.) precisa ter para entrar <br> em órbita estável (circulatória) ao redor de um corpo celeste (planeta, lua, estrela), sem cair de volta nem fugir para o espaço.\n",
    "\n",
    "- Para a Terra, essa velocidade na superfície (desprezando atmosfera) é cerca de 7,9 km/s.\n",
    "- Se o objeto for lançado mais alto, em altitude h, a velocidade orbital diminui um pouco: quanto maior a distância do centro <br> da Terra, menor a velocidade necessária.\n",
    "\n",
    "- Órbitas elípticas\n",
    "    - Para órbitas elípticas, a velocidade varia ao longo da trajetória: é maior no perigeu (ponto mais próximo) e menor no <br> apogeu (ponto mais distante), obedecendo à conservação de energia (energia cinética + potencial).\n",
    "\n",
    "- Importância prática\n",
    "    - Definir satélites de comunicação, estações espaciais e sondas interplanetárias.\n",
    "    - Determinar janelas de lançamento e manobras de correção de órbita.\n",
    "\n",
    "A fórmula que nos dá velocidade média ao longo de uma volta completa é:\n",
    "$$\n",
    "V_{media} = \\frac{2 \\cdot \\pi \\cdot a}{P}\n",
    "$$\n",
    "Onde\n",
    "- $a$ é o semieixo maior da elipse (para órbita circular, a = r)\n",
    "- $P$ é o período orbital."
   ]
  },
  {
   "cell_type": "code",
   "execution_count": null,
   "id": "9d011698",
   "metadata": {},
   "outputs": [
    {
     "name": "stdout",
     "output_type": "stream",
     "text": [
      "Velocidade Orbital: 93526.548 m/s\n",
      "Velocidade Orbital: 93.527 km/s\n",
      "Velocidade Orbital: 336695.572 km/h\n"
     ]
    },
    {
     "data": {
      "image/png": "[encoded data removed]",
      "text/plain": [
       "<Figure size 800x500 with 1 Axes>"
      ]
     },
     "metadata": {},
     "output_type": "display_data"
    }
   ],
   "source": [
    "# v = √(GM/r)\n",
    "# • É a velocidade instantânea necessária para uma órbita perfeitamente circular de raio r.\n",
    "# • Depende só da posição (r) e da massa central (M).\n",
    "V_med = 2 * math.pi * a / P\n",
    "print(f'Velocidade Orbital: {V_med:.3f} m/s\\nVelocidade Orbital: {V_med/1000:.3f} km/s\\nVelocidade Orbital: {V_med * 3.6:.3f} km/h')\n",
    "\n",
    "# Histograma\n",
    "plt.figure(figsize=(8, 5))\n",
    "plt.hist(df['pl_orbper'].dropna(), bins=15, color='skyblue', edgecolor='black')\n",
    "plt.title('Distribuição do Período Orbital dos Exoplanetas')\n",
    "plt.xlabel('Período (em dias)')\n",
    "plt.ylabel('Frequência')\n",
    "plt.grid(True)\n",
    "plt.show()"
   ]
  },
  {
   "cell_type": "markdown",
   "id": "d4c79498",
   "metadata": {},
   "source": [
    "Note que a velocidade média da orbita desses exoplanetas é de ~93 km/s, uma velocidade típica para exoplanetas muito próximos <br> de suas estrelas (comparável, por exemplo, com Mercúrio, que viaja a ~47 km/s)."
   ]
  },
  {
   "cell_type": "markdown",
   "id": "de603c7c",
   "metadata": {},
   "source": [
    "### Raio de Hill (Região de Domínio Gravitacional do Planeta)\n",
    "\n",
    "O raio de Hill (ou esfera de Hill) de um corpo \"pequeno\" (por exemplo, um planeta) é a região ao redor desse corpo dentro da qual <br> sua atração gravitacional domina sobre a de um corpo \"grande\" em torno do qual ele orbita (por exemplo, uma estrela). Num sentido <br> prático, dentro do raio de Hill um satélite natural (como a lua) pode manter-se ligado ao planeta sem ser \"arrancado\" pela gravidade da estrela.\n",
    "\n",
    "- Interpretação\n",
    "    - Se você colocar um satélite em órbita do planeta a uma distância menor que o raio de Hill, ele tende a permanecer ligado ao planeta.\n",
    "    - Além do raio de Hill, a força gravitacional da estrela vence a do planeta e o satélite pode escapar para a estrela.\n",
    "\n",
    "- Exemplos de aplicação\n",
    "    - Estimar o limite máximo para a existência de luas estáveis.\n",
    "    - Em dinâmica de sistemas de vários planetas, determinar regiões de influência mútua.\n",
    "    - Em estudos de captura de objetos (asteroides, cometas) por planetas."
   ]
  },
  {
   "cell_type": "code",
   "execution_count": null,
   "id": "b14f9dee",
   "metadata": {},
   "outputs": [
    {
     "name": "stdout",
     "output_type": "stream",
     "text": [
      "Raio de Hill: 1.253e+09 m\n",
      "Raio de Hill: 1.253e+06 km\n",
      "Raio de Hill: 0.00838 UA\n"
     ]
    }
   ],
   "source": [
    "# Raio de Hill\n",
    "r_H = a * math.cbrt(Mplaneta_kg / (3*Mmestre_kg))\n",
    "print(f'Raio de Hill: {r_H:.3e} m\\nRaio de Hill: {r_H/1000:.3e} km\\nRaio de Hill: {r_H/AU_m:.5f} UA')"
   ]
  },
  {
   "cell_type": "markdown",
   "id": "3d0eb839",
   "metadata": {},
   "source": [
    "Isso nos mostra que, em média, esses exoplanetas possuem uma região de domínio gravitacional de cerca de $1.253 \\cdot 10^6$ km. Comparando com <br> o da Terra (cerca de 0.01 UA), temos que:"
   ]
  },
  {
   "cell_type": "code",
   "execution_count": null,
   "id": "e5197328",
   "metadata": {},
   "outputs": [
    {
     "name": "stdout",
     "output_type": "stream",
     "text": [
      "Raio de Hill do Exoplaneta (média) / Raio de Hill da Terra: 0.8377 UA\n"
     ]
    }
   ],
   "source": [
    "print(f'Raio de Hill do Exoplaneta (média) / Raio de Hill da Terra: {(r_H/AU_m) / 0.01:.4f} UA')"
   ]
  },
  {
   "cell_type": "markdown",
   "id": "4fe9df57",
   "metadata": {},
   "source": [
    "Ou seja, é 0.84 vezes mais estreito que o da Terra (84% do tamanho), cerca de 16\\% mais estreito."
   ]
  },
  {
   "cell_type": "markdown",
   "id": "6422d57b",
   "metadata": {},
   "source": [
    "### Probabilidade de Trânsito\n",
    "\n",
    "A probabilidade de trânsito refere-se à chance de um planeta, em órbita ao redor de sua estrela, passar exatamente na linha de visão entre a estrela e <br> um observador (por exemplo, a Terra). Quando isso ocorre, vemos um \"trânsito\": um pequeno escurecimento periódico no brilho da estrela, causado <br> pela passagem do disco do planeta na frente do disco estelar.\n",
    "\n",
    "- Por que nem todo planeta \"transita\"?\n",
    "    - Orientação aleatória de planos orbitais → a maioria das órbitas não está perfeitamente alinhada com nossa linha de visão.\n",
    "    - Só se a inclinação orbital for próxima de 90° (a órbita “de lado”), o planeta vai cruzar o disco estelar visto da Terra.\n",
    "\n",
    "- Interpretação do resultado\n",
    "    - Se R★/a = 0,1 → Pₜ ≃ 10 % → há 1 chance em 10 de o planeta transitar.\n",
    "    - Quanto mais próxima a órbita (menor a), maior a probabilidade. Planetas “quentes” (a pequeno) transitam com muito mais frequência que planetas em órbitas longas.\n",
    "\n",
    "- Exemplo numérico\n",
    "    - Terra: R☉≃ 0,00465 UA, a⊕ = 1 UA → Pₜ ≃ 0,00465 → 0,465% (cerca de 1 em 215 chances de a Terra, vista de um lugar aleatório, transitar o Sol)\n",
    "    - Kepler-10 b (planeta bem próximo): R★/a ≃ 0,03 → Pₜ ≃ 3 %\n",
    "\n",
    "- Aplicação prática\n",
    "    - Em levantamentos de trânsito (como missões Kepler, TESS), a probabilidade de trânsito determina quantos planetas de uma dada população devemos esperar detectar.\n",
    "    - Para estimar a taxa real de ocorrência de exoplanetas, corrige-se o número observado dividindo-se pela probabilidade geométrica de trânsito."
   ]
  },
  {
   "cell_type": "code",
   "execution_count": null,
   "id": "12335e15",
   "metadata": {},
   "outputs": [
    {
     "data": {
      "text/html": [
       "<img src=\"https://upload.wikimedia.org/wikipedia/commons/0/0d/Light_curve_of_binary_star_Kepler-16.jpg\", width=\"500\">\n",
       "<img src=\"https://upload.wikimedia.org/wikipedia/commons/f/f8/Jupiter-io-transit_feb_10_2009.gif\"> <br>\n",
       "A curva de luz mostra a mudança na luminosidade da estrela como resultado <br> do trânsito. Os dados foram coletados pela missão Kepler.<br>\n"
      ],
      "text/plain": [
       "<IPython.core.display.HTML object>"
      ]
     },
     "metadata": {},
     "output_type": "display_data"
    }
   ],
   "source": [
    "%%html\n",
    "<img src=\"https://upload.wikimedia.org/wikipedia/commons/0/0d/Light_curve_of_binary_star_Kepler-16.jpg\", width=\"500\">\n",
    "<img src=\"https://upload.wikimedia.org/wikipedia/commons/f/f8/Jupiter-io-transit_feb_10_2009.gif\"> <br>\n",
    "A curva de luz mostra a mudança na luminosidade da estrela como resultado <br> do trânsito. Os dados foram coletados pela missão Kepler.<br>"
   ]
  },
  {
   "cell_type": "code",
   "execution_count": null,
   "id": "7eaf5166",
   "metadata": {},
   "outputs": [
    {
     "name": "stdout",
     "output_type": "stream",
     "text": [
      "Média do Raio das Estrelas (em Raio Solar): 1.222\n",
      "Média do Raio dos Planetas (em Raio de Júpiter): 1.103\n"
     ]
    },
    {
     "data": {
      "image/png": "[encoded data removed]",
      "text/plain": [
       "<Figure size 800x300 with 1 Axes>"
      ]
     },
     "metadata": {},
     "output_type": "display_data"
    },
    {
     "data": {
      "image/png": "[encoded data removed]",
      "text/plain": [
       "<Figure size 800x300 with 1 Axes>"
      ]
     },
     "metadata": {},
     "output_type": "display_data"
    },
    {
     "name": "stdout",
     "output_type": "stream",
     "text": [
      "Probabilidade de Trânsito: 0.0565\n"
     ]
    }
   ],
   "source": [
    "# Média do Raio das Estrelas\n",
    "R_estrela = df['st_rad'].mean()\n",
    "\n",
    "# Média do Raio dos Planetas\n",
    "R_planeta = df['pl_radj'].mean()\n",
    "\n",
    "print(f'Média do Raio das Estrelas (em Raio Solar): {R_estrela:.3f}')\n",
    "print(f'Média do Raio dos Planetas (em Raio de Júpiter): {R_planeta:.3f}')\n",
    "\n",
    "# Histograma (Raio das Estrelas)\n",
    "plt.figure(figsize=(8, 3))\n",
    "plt.hist(df['st_rad'].dropna(), bins=15, color='skyblue', edgecolor='black')\n",
    "plt.title('Distribuição do Raio das Estrelas dos Exoplanetas')\n",
    "plt.xlabel('Raio (em Raio Solar)')\n",
    "plt.ylabel('Frequência')\n",
    "plt.grid(True)\n",
    "plt.show()\n",
    "\n",
    "# Histograma (Raio dos Planetas)\n",
    "plt.figure(figsize=(8, 3))\n",
    "plt.hist(df['pl_radj'].dropna(), bins=15, color='skyblue', edgecolor='black')\n",
    "plt.title('Distribuição do Raio dos Exoplanetas')\n",
    "plt.xlabel('Raio (em Raio de Júpiter)')\n",
    "plt.ylabel('Frequência')\n",
    "plt.grid(True)\n",
    "plt.show()\n",
    "\n",
    "# print(f'Raio da Estrela (Raio Solar): {R_estrela}\\nRaio da Estrela (UA): {}')\n",
    "R_estrela_au = R_estrela * AU_rs\n",
    "R_planeta_au = R_planeta * AU_rj\n",
    "P_transito = (R_estrela_au + R_planeta_au) / a_au\n",
    "print(f'Probabilidade de Trânsito: {P_transito:.4f}')"
   ]
  },
  {
   "cell_type": "markdown",
   "id": "4cb48350",
   "metadata": {},
   "source": [
    "Logo, podemos observar que, em média, esses exoplanetas possuem uma probabilidade de trânsito de $0.0565 \\approxeq 6\\%$ ou seja, cerca de 113 em 2000 chances desses <br> exoplanetas, visto da Terra, transitar sua estrela."
   ]
  },
  {
   "cell_type": "markdown",
   "id": "7b458fe6",
   "metadata": {},
   "source": [
    "## Utilizando Estatística\n",
    "Com esses dados em mãos, podemos agora utilizar a estatística para concluir algo sobre os sistemas de exoplanetas."
   ]
  },
  {
   "cell_type": "markdown",
   "id": "e2e136c1",
   "metadata": {},
   "source": [
    "### Probabilidade de Trânsito\n",
    "Temos que a probabilidade de trânsito entre os 225 sistemas observados é de 0.0565. Queremos então calcular o valor esperado para 1000 sistemas. Utilizaremos a <br>\n",
    "fórmula: $E = np$\n",
    "\n",
    "Onde\n",
    "- $E$ é o número esperado de eventos (exoplanetas com trânsito detectável),\n",
    "- $n$ é o número de estrelas observadas (ou sistemas com planetas),\n",
    "- $p$ = $P_{trânsito}$ é a probabilidade de um trânsito ocorrer para um sistema aleatório com características médias."
   ]
  },
  {
   "cell_type": "code",
   "execution_count": null,
   "id": "2d70e0e7",
   "metadata": {},
   "outputs": [
    {
     "name": "stdout",
     "output_type": "stream",
     "text": [
      "São esperados cerca de 56.54 trânsitos.\n",
      "Desvio padrão: 7.30\n",
      "Intervalo 1σ (68%): entre 49.24 e 63.85 detecções, aproximadamente.\n"
     ]
    }
   ],
   "source": [
    "n_obs = 1000\n",
    "E_transito = n_obs * P_transito\n",
    "desvp_transito = math.sqrt(E_transito*(1-P_transito))\n",
    "\n",
    "print(f'São esperados cerca de {E_transito:.2f} trânsitos.')\n",
    "# print(f'Média: {E:.2f}')\n",
    "print(f'Desvio padrão: {desvp_transito:.2f}')\n",
    "print(f'Intervalo 1σ (68%): entre {E_transito - desvp_transito:.2f} e {E_transito + desvp_transito:.2f} detecções, aproximadamente.')"
   ]
  },
  {
   "cell_type": "markdown",
   "id": "25461642",
   "metadata": {},
   "source": [
    "Podemos também calcular a probabilidade de observar exatamente 112 trânsitos nesses 1000 sistemas utilizando distribuição binomial:\n",
    "$$\n",
    "P(k; n, p) = \\binom{n}{k} \\cdot p^k \\cdot q^{n-k}\n",
    "$$"
   ]
  },
  {
   "cell_type": "code",
   "execution_count": null,
   "id": "1ac162d3",
   "metadata": {},
   "outputs": [
    {
     "name": "stdout",
     "output_type": "stream",
     "text": [
      "P(X = 112): 5.232e-12\n",
      "Note que: Z = 7.59\n"
     ]
    }
   ],
   "source": [
    "k = 112\n",
    "\n",
    "prob = binom.pmf(k, n_obs, P_transito)\n",
    "print(f\"P(X = 112): {prob:.3e}\")\n",
    "\n",
    "print(f'Note que: Z = {(k - E_transito)/desvp_transito:.2f}')"
   ]
  },
  {
   "cell_type": "markdown",
   "id": "62ff4d7a",
   "metadata": {},
   "source": [
    "De acordo com o valor de $Z$ temos que 112 é mais de 7 desvios padrão acima da média, o que é extremamente improvável, como pode ser percebido em $P(X = 112)$. Ou <br> seja, a chance de observar exatamente 112 trânsitos entre 1000 estrelas com $p \\approxeq 0.0565$ é praticamente zero, um evento altamente improvável. Um valor de $5.232 \\cdot 10^{-12}$ <br> significa que se você repetir esse experimento 1 trilhão de vezes, esperaria ver esse resultado apenas 5 vezes.\n",
    "\n",
    "- Na prática, pode indicar que:\n",
    "    - Houve algum viés (por exemplo, erro de medição),\n",
    "    - Ou o valor de $p$ usado no modelo não representa bem o verdadeiro sistema,\n",
    "    - Ou é realmente um caso excepcional e raro."
   ]
  },
  {
   "cell_type": "markdown",
   "id": "e6545d64",
   "metadata": {},
   "source": [
    "### Semieixo Maior\n",
    "Queremos calcular o IC (intervalo de confiança) de 95% para o Semieixo Maior, utilizando:\n",
    "$$\n",
    "IC = \\overline{x} \\pm z \\cdot \\frac{s}{\\sqrt{n}}\n",
    "$$\n",
    "Onde\n",
    "- $\\overline{x}$ é a média (0.11 UA)\n",
    "- $s$ é o desvio padrão amostral\n",
    "- $n$ = 225\n",
    "- $z$ para 95% $\\approx$ 1.96\n",
    "\n",
    "Calculando variância e desvio padrão:"
   ]
  },
  {
   "cell_type": "code",
   "execution_count": null,
   "id": "3c957ed0",
   "metadata": {},
   "outputs": [
    {
     "name": "stdout",
     "output_type": "stream",
     "text": [
      "Variância: 0.0165\n",
      "Desvio padrão: 0.1286\n"
     ]
    }
   ],
   "source": [
    "# Variância do Semieixo Maior\n",
    "variancia_a = sum((x - a_au)**2 for x in df['pl_orbsmax']) / len(df['pl_orbsmax'])\n",
    "\n",
    "# Desvio Padrão do Semieixo Maior\n",
    "desvp_a = math.sqrt(variancia_a)\n",
    "\n",
    "print(f'Variância: {variancia_a:.4f}\\nDesvio padrão: {desvp_a:.4f}')"
   ]
  },
  {
   "cell_type": "markdown",
   "id": "1cf9a096",
   "metadata": {},
   "source": [
    "Aplicando na fórmula:"
   ]
  },
  {
   "cell_type": "code",
   "execution_count": null,
   "id": "0b3e1eea",
   "metadata": {},
   "outputs": [
    {
     "name": "stdout",
     "output_type": "stream",
     "text": [
      "IC = [0.0929; 0.1265]\n"
     ]
    }
   ],
   "source": [
    "# Parâmetros\n",
    "z = 1.96\n",
    "n = len(df['pl_orbsmax'])\n",
    "\n",
    "# Cálculo do IC\n",
    "IC_apos = a_au + z * desvp_a/math.sqrt(n)\n",
    "IC_aneg = a_au - z * desvp_a/math.sqrt(n)\n",
    "print(f'IC = [{IC_aneg:.4f}; {IC_apos:.4f}]')"
   ]
  },
  {
   "cell_type": "markdown",
   "id": "9b2152cc",
   "metadata": {},
   "source": [
    "Com uma amostra de 225 planetas, o semieixo maior médio foi de 0,11 UA. Com um desvio padrão de 0,1286 UA, o intervalo de confiança <br> de 95% para a média populacional do semieixo maior está entre 0,0929 e 0,1265 UA. Isso sugere que a maioria dos exoplanetas analisados <br> orbita sua estrela a uma distância muito menor do que a da Terra em relação ao Sol (1 UA), reforçando o viés observacional na detecção de <br> exoplanetas com órbitas curtas.\n",
    "\n",
    "Poderiamos fazer testes de hipóteses para a média do semieixo maior. Se quisessemos comparar com a Terra, que possui semieixo maior <br> de 1 UA, e considerar essa a \"recomendação\" para que haja vida nesses exoplanetas, teríamos as seguintes hipóteses:\n",
    "\n",
    "$H_0$: o valor médio do semieixo maior é igual a 1 UA.<br>\n",
    "$H_a$: o valor médio do semieixo maior é menor que 1 UA.\n",
    "\n",
    "Como já foi mostrado, o valor médio do semieixo maior é, de fato, menor que 1 UA, então rejeitaríamos $H_0$ em favor de $H_a$. Logo, não há <br> como ter vida nesses exoplanetas. Utilizando T-Student para mostrar isso:\n",
    "$$\n",
    "t = \\frac{\\overline{x} - \\mu_0}{s/\\sqrt{n}}\n",
    "$$\n",
    "Onde\n",
    "- $\\overline{x}$ = 0.11 UA\n",
    "- $s$ = 0.1286\n",
    "- $n$ = 225\n",
    "- $\\mu_0$ = 1 UA (média sob $H_0$)"
   ]
  },
  {
   "cell_type": "code",
   "execution_count": null,
   "id": "fc6ae354",
   "metadata": {},
   "outputs": [
    {
     "name": "stdout",
     "output_type": "stream",
     "text": [
      "T-valor calculado: -103.8084\n",
      "P-valor (unilateral): 1.0488e-191\n",
      "Rejeitamos H0: A média é significativamente menor que 1 UA.\n"
     ]
    }
   ],
   "source": [
    "# Dados da amostra\n",
    "media_hipotetica = 1        # valor de comparação (média sob H0)\n",
    "\n",
    "# Cálculo do t\n",
    "erro_padrao = desvp_a / math.sqrt(n)\n",
    "t_calculado = (a_au - media_hipotetica) / erro_padrao\n",
    "\n",
    "# Graus de liberdade\n",
    "df = n - 1\n",
    "\n",
    "# p-valor (unilateral, H1: média < 1)\n",
    "p_valor = stats.t.cdf(t_calculado, df)\n",
    "\n",
    "# Resultado\n",
    "print(f'T-valor calculado: {t_calculado:.4f}')\n",
    "print(f'P-valor (unilateral): {p_valor:.4e}')\n",
    "\n",
    "# Conclusão\n",
    "alpha = 0.05\n",
    "if p_valor < alpha:\n",
    "    print(\"Rejeitamos H0: A média é significativamente menor que 1 UA.\")\n",
    "else:\n",
    "    print(\"Não rejeitamos H0: Não há evidência suficiente para afirmar que a média é menor que 1 UA.\")"
   ]
  },
  {
   "cell_type": "markdown",
   "id": "90bff8ab",
   "metadata": {},
   "source": [
    "Esse valor de $t$ é muito negativo (muito distante da média sob $H_0$), o que implica um probabilidade praticamente nula de isso acontecer ao <br> acaso se $H_0$ fosse verdadeira."
   ]
  }
 ],
 "metadata": {
  "kernelspec": {
   "display_name": "Python 3",
   "language": "python",
   "name": "python3"
  },
  "language_info": {
   "codemirror_mode": {
    "name": "ipython",
    "version": 3
   },
   "file_extension": ".py",
   "mimetype": "text/x-python",
   "name": "python",
   "nbconvert_exporter": "python",
   "pygments_lexer": "ipython3",
   "version": "3.12.3"
  }
 },
 "nbformat": 4,
 "nbformat_minor": 5
}
